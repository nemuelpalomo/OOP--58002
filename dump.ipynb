{
  "nbformat": 4,
  "nbformat_minor": 0,
  "metadata": {
    "colab": {
      "name": "Midtern Exam.ipynb",
      "provenance": [],
      "collapsed_sections": [],
      "authorship_tag": "ABX9TyObxJUrKfPecmJFigrvoBEr",
      "include_colab_link": true
    },
    "kernelspec": {
      "name": "python3",
      "display_name": "Python 3"
    },
    "language_info": {
      "name": "python"
    }
  },
  "cells": [
    {
      "cell_type": "markdown",
      "metadata": {
        "id": "view-in-github",
        "colab_type": "text"
      },
      "source": [
        "<a href=\"https://colab.research.google.com/github/nemuelpalomo/OOP-58002/blob/main/Midtern_Exam.ipynb\" target=\"_parent\"><img src=\"https://colab.research.google.com/assets/colab-badge.svg\" alt=\"Open In Colab\"/></a>"
      ]
    },
    {
      "cell_type": "code",
      "execution_count": 24,
      "metadata": {
        "colab": {
          "base_uri": "https://localhost:8080/"
        },
        "id": "Nsq49bVtWsfD",
        "outputId": "a8e266f9-844d-47cf-eea9-3d5b905441c6"
      },
      "outputs": [
        {
          "output_type": "stream",
          "name": "stdout",
          "text": [
            "Enter the temperature in Celsius: 52\n",
            "325.15 Kelvin\n",
            "125.6 Fahrenheit\n",
            "\n",
            "Enter the temperature in Fahrenheit: 52\n",
            "11.11 Celsius\n",
            "\n",
            "Enter the temperature in Kelvin: 61\n",
            "-212.15 Celsius\n"
          ]
        }
      ],
      "source": [
        "def main():\n",
        "\n",
        "  class TemperatureConversion:\n",
        "    def __init__(self, temp = 1):\n",
        "      self._temp = temp\n",
        "\n",
        "  class CelsiusToFahrenheit(TemperatureConversion):\n",
        "    def conversion(self):\n",
        "      return (self._temp * 9)/5 + 32\n",
        "\n",
        "  class CelsiusToKelvin(TemperatureConversion):\n",
        "    def conversion(self):\n",
        "      return self._temp + 273.15\n",
        "\n",
        "  tempInCelsius = float(input(\"Enter the temperature in Celsius: \"))\n",
        "  convert = CelsiusToKelvin(tempInCelsius)\n",
        "  print(str(convert.conversion()) + \" Kelvin\")\n",
        "  convert = CelsiusToFahrenheit(tempInCelsius)\n",
        "  print(str(convert.conversion()) + \" Fahrenheit\")\n",
        "\n",
        "\n",
        "  #Add - Fahrenheit to Celsius and Kelvin to Celsius (Solution)\n",
        "\n",
        "  class FahrenheitToCelsius(TemperatureConversion):\n",
        "    def conversion(self):\n",
        "      return (self._temp - 32) * 5/9\n",
        "\n",
        "  tempInFahrenheit = float(input(\"\\nEnter the temperature in Fahrenheit: \"))\n",
        "  convert = FahrenheitToCelsius(tempInFahrenheit)\n",
        "  result = round(convert.conversion(), 2)\n",
        "  print(f\"{str(result)} Celsius\")\n",
        "\n",
        "  class KelvinToCelsius(TemperatureConversion):\n",
        "    def conversion(self):\n",
        "      return (self._temp - 273.15)\n",
        "\n",
        "  tempInKelvin = float(input(\"\\nEnter the temperature in Kelvin: \"))\n",
        "  convert = KelvinToCelsius(tempInKelvin)\n",
        "  result = round(convert.conversion(), 2)\n",
        "  print(f\"{str(result)} Celsius\")\n",
        "\n",
        "\n",
        "\n",
        "\n",
        "main()\n",
        "\n",
        "\n",
        "#Nemuel Rico O. Palomo"
      ]
    }
  ]
}