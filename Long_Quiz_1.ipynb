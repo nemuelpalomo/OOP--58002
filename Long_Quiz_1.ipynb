{
  "nbformat": 4,
  "nbformat_minor": 0,
  "metadata": {
    "colab": {
      "name": "Long Quiz 1.ipynb",
      "provenance": [],
      "collapsed_sections": [],
      "authorship_tag": "ABX9TyPnet7yv7zhRIy93lB6+CH3",
      "include_colab_link": true
    },
    "kernelspec": {
      "name": "python3",
      "display_name": "Python 3"
    },
    "language_info": {
      "name": "python"
    }
  },
  "cells": [
    {
      "cell_type": "markdown",
      "metadata": {
        "id": "view-in-github",
        "colab_type": "text"
      },
      "source": [
        "<a href=\"https://colab.research.google.com/github/nemuelpalomo/OOP-58002/blob/main/Long_Quiz_1.ipynb\" target=\"_parent\"><img src=\"https://colab.research.google.com/assets/colab-badge.svg\" alt=\"Open In Colab\"/></a>"
      ]
    },
    {
      "cell_type": "code",
      "execution_count": 97,
      "metadata": {
        "colab": {
          "base_uri": "https://localhost:8080/"
        },
        "id": "M6-VoZl-Y439",
        "outputId": "d0f8bae8-ae25-4654-f1fb-928ffce65f3a"
      },
      "outputs": [
        {
          "output_type": "stream",
          "name": "stdout",
          "text": [
            "Please enter the degree Celsius value that you want to convert: 36.4\n",
            "\n",
            "------> The degree Celsius (36.4) will now be converted to Fahrenheit...\n",
            "\n",
            "------> The degree Celsius value has been converted to Fahrenheit.\n",
            "------> Please call the method Display() to check the results on the user.\n",
            "\n",
            "\n",
            "The Celsius 36.4 degrees is 97.52 degrees in Fahrenheit.\n",
            "\n"
          ]
        }
      ],
      "source": [
        "class Temperature:\n",
        "  def __init__(self, celsius=None):\n",
        "     self.celsius = celsius\n",
        "\n",
        "  def Fahrenheit(self):\n",
        "    \"\"\" This method converts the input to Fahrenheit. \"\"\"  \n",
        "    \n",
        "    prompt = \"Please enter the degree Celsius value that you want to convert: \"\n",
        "    while True:\n",
        "        self.celsius = float(input(prompt))\n",
        "        if self.celsius:\n",
        "          print(f\"\\n------> The degree Celsius ({self.celsius}) will now be converted to Fahrenheit...\\n\")\n",
        "          print(f\"------> The degree Celsius value has been converted to Fahrenheit.\")\n",
        "          print(f\"------> Please call the method Display() to check the results on the user.\\n\")\n",
        "          break\n",
        "    self.fahrenheit = self.celsius * 9/5 + 32\n",
        "\n",
        "\n",
        "\n",
        "  def Display(self):\n",
        "    \"\"\" This method displays the stored output of the converted data from the Fahrenheit method \"\"\"\n",
        "\n",
        "    print(f\"\\nThe Celsius {self.celsius} degrees is {self.fahrenheit} degrees in Fahrenheit.\\n\")\n",
        "  \n",
        "\n",
        "user1 = Temperature()\n",
        "\n",
        "\n",
        "user1.Fahrenheit()\n",
        "\n",
        "user1.Display()\n",
        "\n",
        "\n"
      ]
    },
    {
      "cell_type": "code",
      "source": [
        ""
      ],
      "metadata": {
        "id": "8-tZvGospnyM"
      },
      "execution_count": null,
      "outputs": []
    }
  ]
}