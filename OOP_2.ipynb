{
  "nbformat": 4,
  "nbformat_minor": 0,
  "metadata": {
    "colab": {
      "name": "OOP-2.ipynb",
      "provenance": [],
      "collapsed_sections": [],
      "authorship_tag": "ABX9TyOtvLgNsmIaFlK8bxVQhbJp",
      "include_colab_link": true
    },
    "kernelspec": {
      "name": "python3",
      "display_name": "Python 3"
    },
    "language_info": {
      "name": "python"
    }
  },
  "cells": [
    {
      "cell_type": "markdown",
      "metadata": {
        "id": "view-in-github",
        "colab_type": "text"
      },
      "source": [
        "<a href=\"https://colab.research.google.com/github/nemuelpalomo/OOP-58002/blob/main/OOP_2.ipynb\" target=\"_parent\"><img src=\"https://colab.research.google.com/assets/colab-badge.svg\" alt=\"Open In Colab\"/></a>"
      ]
    },
    {
      "cell_type": "markdown",
      "source": [
        "#Classes with Multiple Objects\n"
      ],
      "metadata": {
        "id": "hKBWqYzzUtrF"
      }
    },
    {
      "cell_type": "code",
      "execution_count": 3,
      "metadata": {
        "colab": {
          "base_uri": "https://localhost:8080/"
        },
        "id": "iHHEH3qDTYKa",
        "outputId": "91b5330e-37ec-4cfa-ad77-bbc2b8d07349"
      },
      "outputs": [
        {
          "output_type": "stream",
          "name": "stdout",
          "text": [
            "Griffon Vulture flies above clouds.\n",
            "Common Crane flies above clouds.\n",
            "Emu is the national bird of the Philippines.\n"
          ]
        }
      ],
      "source": [
        "class Birds:\n",
        "  \n",
        "  def __init__(self, bird_name):\n",
        "    self.bird_name = bird_name\n",
        "\n",
        "  def flying_birds(self):\n",
        "    print(f\"{self.bird_name.title()} flies above clouds.\")\n",
        "\n",
        "  def non_flying_birds(self):\n",
        "    print(f\"{self.bird_name.title()} is the national bird of the Philippines.\")\n",
        "\n",
        "vulture = Birds(\"griffon vulture\")\n",
        "crane = Birds(\"common crane\")\n",
        "emu = Birds(\"emu\")\n",
        "\n",
        "vulture.flying_birds()\n",
        "crane.flying_birds()\n",
        "emu.non_flying_birds()\n"
      ]
    },
    {
      "cell_type": "markdown",
      "source": [
        "#Encapsulation (mangling with double underscore .__)\n"
      ],
      "metadata": {
        "id": "rgrhV0ynXJcd"
      }
    },
    {
      "cell_type": "code",
      "source": [
        "class foo:\n",
        "\n",
        "  def __init__(self, a, b):\n",
        "    self.__a = a\n",
        "    self.__b = b\n",
        "\n",
        "  def add(self):\n",
        "    return self.__a + self.__b\n",
        "\n",
        "  def sub(self):\n",
        "    return self.__a - self.__b\n",
        "\n",
        "foo_object = foo(3, 4)\n",
        "\n",
        "print(foo_object.add()) # Adding a and b\n",
        "print(foo_object.sub()) # Subtracting a and b\n",
        "\n",
        "foo_object.__b = 5\n",
        "foo_object.__a = 7\n",
        "\n",
        "print(foo_object.add())\n",
        "print(foo_object.sub())\n",
        "\n"
      ],
      "metadata": {
        "colab": {
          "base_uri": "https://localhost:8080/"
        },
        "id": "3gZcuhorXLEH",
        "outputId": "8ad350e5-8460-4180-f4f6-6df7b9313359"
      },
      "execution_count": 30,
      "outputs": [
        {
          "output_type": "stream",
          "name": "stdout",
          "text": [
            "7\n",
            "-1\n",
            "7\n",
            "-1\n"
          ]
        }
      ]
    },
    {
      "cell_type": "markdown",
      "source": [
        "#Inheritance"
      ],
      "metadata": {
        "id": "BoqMyUxfc5Ov"
      }
    },
    {
      "cell_type": "code",
      "source": [
        "class Person:\n",
        "  def __init__(self, first_name, last_name):\n",
        "    self.first_name = first_name\n",
        "    self.last_name = last_name\n",
        "\n",
        "  def print_name(self):\n",
        "    print(f\"{self.first_name.title()} {self.last_name.title()}\")\n",
        "\n",
        "person = Person('nemuel', 'palomo')\n",
        "\n",
        "person.print_name()\n",
        "\n",
        "class Student(Person):\n",
        "  pass\n",
        "\n",
        "person = Student('nemuel', 'rico')\n",
        "\n",
        "person.print_name()\n"
      ],
      "metadata": {
        "colab": {
          "base_uri": "https://localhost:8080/"
        },
        "id": "0s352XE6dYss",
        "outputId": "dd59cddc-f992-4b98-a1f3-d29fabc86a77"
      },
      "execution_count": 35,
      "outputs": [
        {
          "output_type": "stream",
          "name": "stdout",
          "text": [
            "Nemuel Palomo\n",
            "Nemuel Rico\n"
          ]
        }
      ]
    },
    {
      "cell_type": "markdown",
      "source": [
        "#Polymorphism"
      ],
      "metadata": {
        "id": "17PNJ4NJggN8"
      }
    },
    {
      "cell_type": "code",
      "source": [
        "class RegularPolygon:\n",
        "  def __init__(self, side):\n",
        "    self.side = side\n",
        "\n",
        "class Square(RegularPolygon):\n",
        "  def area(self):\n",
        "    return self.side * self.side\n",
        "\n",
        "class EquilateralTriangle(RegularPolygon):\n",
        "  def area(self):\n",
        "    return self.side * self.side * 0.433\n",
        "\n",
        "x = Square(4)\n",
        "y = EquilateralTriangle(3)\n",
        "\n",
        "print(x.area())\n",
        "print(y.area())"
      ],
      "metadata": {
        "colab": {
          "base_uri": "https://localhost:8080/"
        },
        "id": "14v0SKrnghUp",
        "outputId": "bf0444e8-05c4-41bf-8b6e-10412e7b3332"
      },
      "execution_count": 38,
      "outputs": [
        {
          "output_type": "stream",
          "name": "stdout",
          "text": [
            "16\n",
            "3.897\n"
          ]
        }
      ]
    }
  ]
}