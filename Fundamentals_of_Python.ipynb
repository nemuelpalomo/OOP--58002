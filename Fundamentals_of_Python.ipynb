{
  "nbformat": 4,
  "nbformat_minor": 0,
  "metadata": {
    "colab": {
      "name": "Fundamentals of Python.ipynb",
      "provenance": [],
      "collapsed_sections": [
        "1UGyGmnmLRsq"
      ],
      "authorship_tag": "ABX9TyMmY77ceTCEvp6P80VUTx5O",
      "include_colab_link": true
    },
    "kernelspec": {
      "name": "python3",
      "display_name": "Python 3"
    },
    "language_info": {
      "name": "python"
    }
  },
  "cells": [
    {
      "cell_type": "markdown",
      "metadata": {
        "id": "view-in-github",
        "colab_type": "text"
      },
      "source": [
        "<a href=\"https://colab.research.google.com/github/nemuelpalomo/OOP-58002/blob/main/Fundamentals_of_Python.ipynb\" target=\"_parent\"><img src=\"https://colab.research.google.com/assets/colab-badge.svg\" alt=\"Open In Colab\"/></a>"
      ]
    },
    {
      "cell_type": "markdown",
      "source": [
        "##Fundamentals of Python\n",
        "\n"
      ],
      "metadata": {
        "id": "TM1KZmMwJaeR"
      }
    },
    {
      "cell_type": "code",
      "source": [
        "if 5 > 2:\n",
        "  print(\"Yes!\")\n"
      ],
      "metadata": {
        "colab": {
          "base_uri": "https://localhost:8080/"
        },
        "id": "EsJ1EsPrH2To",
        "outputId": "35b9b8c4-9e2f-4ee6-f4b6-5a067a3da1c0"
      },
      "execution_count": 9,
      "outputs": [
        {
          "output_type": "stream",
          "name": "stdout",
          "text": [
            "Yes!\n"
          ]
        }
      ]
    },
    {
      "cell_type": "markdown",
      "source": [
        "##Python Comments\n",
        "\n"
      ],
      "metadata": {
        "id": "ia2Ymh1UKNa6"
      }
    },
    {
      "cell_type": "code",
      "source": [
        "#This is a comment\n",
        "\n",
        "print(\"Hello Word!\")"
      ],
      "metadata": {
        "colab": {
          "base_uri": "https://localhost:8080/"
        },
        "id": "7OLbeGykJ-d9",
        "outputId": "3698de24-5795-4a26-b3bc-7825b5443210"
      },
      "execution_count": 8,
      "outputs": [
        {
          "output_type": "stream",
          "name": "stdout",
          "text": [
            "Hello Word!\n"
          ]
        }
      ]
    },
    {
      "cell_type": "markdown",
      "source": [
        "##Python Variable\n"
      ],
      "metadata": {
        "id": "1UGyGmnmLRsq"
      }
    },
    {
      "cell_type": "code",
      "source": [
        "person1 = \"Nemuel\"\n",
        "\n",
        "person2 = \"Rico\"\n",
        "\n",
        "n = 11\n",
        "\n",
        "n1,n2,n3 = 1,2,3\n",
        "\n",
        "print(person1)\n",
        "print(person2)\n",
        "print(n)\n",
        "print(n1)\n",
        "print(n2)\n",
        "print(n3)\n",
        "print(n1,n2,n3)"
      ],
      "metadata": {
        "colab": {
          "base_uri": "https://localhost:8080/"
        },
        "id": "94DEBFUhLT4a",
        "outputId": "642272dc-35a6-46b9-a982-88a4d8fde627"
      },
      "execution_count": 10,
      "outputs": [
        {
          "output_type": "stream",
          "name": "stdout",
          "text": [
            "Nemuel\n",
            "Rico\n",
            "11\n",
            "1\n",
            "2\n",
            "3\n",
            "1 2 3\n"
          ]
        }
      ]
    },
    {
      "cell_type": "markdown",
      "source": [
        "##Casting"
      ],
      "metadata": {
        "id": "tr77iBN7L0gf"
      }
    },
    {
      "cell_type": "code",
      "source": [
        "a = 5\n",
        "a = int(5)\n",
        "print(a)"
      ],
      "metadata": {
        "colab": {
          "base_uri": "https://localhost:8080/"
        },
        "id": "e1ks1qV0MA_R",
        "outputId": "fa63e94d-1003-468a-dacb-51b815034597"
      },
      "execution_count": 12,
      "outputs": [
        {
          "output_type": "stream",
          "name": "stdout",
          "text": [
            "<class 'int'>\n",
            "<class 'float'>\n"
          ]
        }
      ]
    },
    {
      "cell_type": "markdown",
      "source": [
        "##Type () function"
      ],
      "metadata": {
        "id": "R86QYRRRMWWr"
      }
    },
    {
      "cell_type": "code",
      "source": [
        "b = 5\n",
        "b = float(5)\n",
        "\n",
        "print(type(b))"
      ],
      "metadata": {
        "colab": {
          "base_uri": "https://localhost:8080/"
        },
        "id": "Rn4sPjjQMX7a",
        "outputId": "72c59e58-c0b2-4fc0-b9bd-d9dbe3b9820d"
      },
      "execution_count": 14,
      "outputs": [
        {
          "output_type": "stream",
          "name": "stdout",
          "text": [
            "<class 'float'>\n"
          ]
        }
      ]
    },
    {
      "cell_type": "markdown",
      "source": [
        "##Double Quotes and Single Quotes"
      ],
      "metadata": {
        "id": "q55p4CqMMxaN"
      }
    },
    {
      "cell_type": "code",
      "source": [
        "double = \"Hello\"\n",
        "\n",
        "single = 'Hello'\n",
        "\n",
        "print(double, single)"
      ],
      "metadata": {
        "colab": {
          "base_uri": "https://localhost:8080/"
        },
        "id": "zFMbXswWMzUK",
        "outputId": "92da0f8b-18e5-4db9-9ffd-ba173846354a"
      },
      "execution_count": 15,
      "outputs": [
        {
          "output_type": "stream",
          "name": "stdout",
          "text": [
            "Hello Hello\n"
          ]
        }
      ]
    },
    {
      "cell_type": "markdown",
      "source": [
        "##Case Sensitive"
      ],
      "metadata": {
        "id": "nRs-POi3NCJ7"
      }
    },
    {
      "cell_type": "code",
      "source": [
        "case = 'Ana'\n",
        "\n",
        "CASE = 'Robert'\n",
        "\n",
        "print(case)\n",
        "\n",
        "print(CASE)\n",
        "\n"
      ],
      "metadata": {
        "colab": {
          "base_uri": "https://localhost:8080/"
        },
        "id": "nQcUAPygNDd2",
        "outputId": "2f9f102b-4332-4f10-9481-46efb015dd0d"
      },
      "execution_count": 16,
      "outputs": [
        {
          "output_type": "stream",
          "name": "stdout",
          "text": [
            "Ana\n",
            "Robert\n"
          ]
        }
      ]
    },
    {
      "cell_type": "markdown",
      "source": [
        "##Multiple Variables"
      ],
      "metadata": {
        "id": "nUeuk40yNMP-"
      }
    },
    {
      "cell_type": "code",
      "source": [
        "#x = \"Tony\"\n",
        "x = \"Sally\"\n",
        "print(x)\n",
        "\n",
        "k=l=m = \"four\"\n",
        "print(k)\n",
        "print(l)\n",
        "print(m)\n",
        "print(k,l,m)"
      ],
      "metadata": {
        "colab": {
          "base_uri": "https://localhost:8080/"
        },
        "id": "SVXB-XP0NNyZ",
        "outputId": "5948c18f-ff9b-4dea-e317-71062b72e1cb"
      },
      "execution_count": 25,
      "outputs": [
        {
          "output_type": "stream",
          "name": "stdout",
          "text": [
            "Sally\n",
            "four\n",
            "four\n",
            "four\n",
            "four four four\n"
          ]
        }
      ]
    },
    {
      "cell_type": "markdown",
      "source": [
        "##Output Variables"
      ],
      "metadata": {
        "id": "UEA2LhLaOG0-"
      }
    },
    {
      "cell_type": "code",
      "source": [
        "print('Python programming is fun.')\n",
        "\n",
        "h = 'entertaining.'\n",
        "print(\"Python programming is \" + h)\n",
        "\n",
        "word1 = 'Python Programming is '\n",
        "word2 = 'enjoying.'\n",
        "\n",
        "print (word1 + word2)"
      ],
      "metadata": {
        "colab": {
          "base_uri": "https://localhost:8080/"
        },
        "id": "6Dm7wG-uOIbC",
        "outputId": "a8949dc5-3fb1-4721-b3b5-93ee43ac54c7"
      },
      "execution_count": 29,
      "outputs": [
        {
          "output_type": "stream",
          "name": "stdout",
          "text": [
            "Python programming is fun.\n",
            "Python programming is entertaining.\n",
            "Python Programming is enjoying.\n"
          ]
        }
      ]
    },
    {
      "cell_type": "markdown",
      "source": [
        "##Arithmetic Operations"
      ],
      "metadata": {
        "id": "EsoW7MitPKb4"
      }
    },
    {
      "cell_type": "code",
      "source": [
        "c = 2\n",
        "d = 4\n",
        "\n",
        "print(c+d)\n",
        "print(d-c)\n",
        "print(d*c)\n",
        "print(int(d/c))\n",
        "print(d%c)\n",
        "print(3//2) # 1.50 - floor division\n",
        "print(d**c)"
      ],
      "metadata": {
        "colab": {
          "base_uri": "https://localhost:8080/"
        },
        "id": "NUiBVmfpPMsZ",
        "outputId": "37672308-4929-4b72-a759-54fdedc23778"
      },
      "execution_count": 37,
      "outputs": [
        {
          "output_type": "stream",
          "name": "stdout",
          "text": [
            "6\n",
            "2\n",
            "8\n",
            "2\n",
            "0\n",
            "1\n",
            "16\n"
          ]
        }
      ]
    },
    {
      "cell_type": "markdown",
      "source": [
        "##Assignment Operators"
      ],
      "metadata": {
        "id": "EC9gEUvDRA2W"
      }
    },
    {
      "cell_type": "code",
      "source": [
        "q = 10\n",
        "q+=5 \n",
        "\n",
        "print(q) #same as q = q+5, q = 10+5 = 15"
      ],
      "metadata": {
        "colab": {
          "base_uri": "https://localhost:8080/"
        },
        "id": "4J12UB0ERD0j",
        "outputId": "0857883d-96e2-4523-d81b-391a3debd733"
      },
      "execution_count": 40,
      "outputs": [
        {
          "output_type": "stream",
          "name": "stdout",
          "text": [
            "15\n"
          ]
        }
      ]
    },
    {
      "cell_type": "markdown",
      "source": [
        "##Boolean Logic"
      ],
      "metadata": {
        "id": "dU_YwNiuSesk"
      }
    },
    {
      "cell_type": "code",
      "source": [
        "s = 10\n",
        "print(s^2)\n",
        "print(s|2)"
      ],
      "metadata": {
        "colab": {
          "base_uri": "https://localhost:8080/"
        },
        "id": "9ztdsWvCSf2d",
        "outputId": "d4155018-0186-403a-c8f2-fdea51b82923"
      },
      "execution_count": 41,
      "outputs": [
        {
          "output_type": "stream",
          "name": "stdout",
          "text": [
            "8\n",
            "10\n"
          ]
        }
      ]
    },
    {
      "cell_type": "markdown",
      "source": [
        "##Comparison Operators\n"
      ],
      "metadata": {
        "id": "K9OYh_6kTMzO"
      }
    },
    {
      "cell_type": "code",
      "source": [
        "print(s>q)\n",
        "print(s==s)\n",
        "print(q==q)"
      ],
      "metadata": {
        "colab": {
          "base_uri": "https://localhost:8080/"
        },
        "id": "oBMT1lFyTN7L",
        "outputId": "d228bdb1-a272-4a9e-e19c-b7ecee1f0fba"
      },
      "execution_count": 45,
      "outputs": [
        {
          "output_type": "stream",
          "name": "stdout",
          "text": [
            "False\n",
            "True\n",
            "True\n"
          ]
        }
      ]
    },
    {
      "cell_type": "markdown",
      "source": [
        "##Logical Operators"
      ],
      "metadata": {
        "id": "6Ep714C1Tnqi"
      }
    },
    {
      "cell_type": "code",
      "source": [
        "s>q and s==s\n",
        "\n",
        "s>q or s==s"
      ],
      "metadata": {
        "colab": {
          "base_uri": "https://localhost:8080/"
        },
        "id": "rM46Aa4RTpIh",
        "outputId": "80b090e6-8dc4-43d6-d1cd-23a84f63ad18"
      },
      "execution_count": 46,
      "outputs": [
        {
          "output_type": "execute_result",
          "data": {
            "text/plain": [
              "True"
            ]
          },
          "metadata": {},
          "execution_count": 46
        }
      ]
    },
    {
      "cell_type": "markdown",
      "source": [
        "##Identity Operators"
      ],
      "metadata": {
        "id": "plRnIi3lUfdZ"
      }
    },
    {
      "cell_type": "code",
      "source": [
        "s is q\n",
        "print(s is not q)"
      ],
      "metadata": {
        "colab": {
          "base_uri": "https://localhost:8080/"
        },
        "id": "hY_X7brFUhoD",
        "outputId": "3f277df6-996e-4c14-bfdf-cc483de4db97"
      },
      "execution_count": 48,
      "outputs": [
        {
          "output_type": "stream",
          "name": "stdout",
          "text": [
            "True\n"
          ]
        }
      ]
    },
    {
      "cell_type": "markdown",
      "source": [
        "##Bitwise Operator"
      ],
      "metadata": {
        "id": "XrDXkDlvVUMN"
      }
    },
    {
      "cell_type": "code",
      "source": [
        "b = 10 #1010 in binary\n",
        "\n",
        "print(b>>1) #5\n",
        "print(b<<1) #20"
      ],
      "metadata": {
        "colab": {
          "base_uri": "https://localhost:8080/"
        },
        "id": "zldlY4WEVWLN",
        "outputId": "ab80fd0f-fd9e-41c4-8f47-86a4dd697130"
      },
      "execution_count": 47,
      "outputs": [
        {
          "output_type": "stream",
          "name": "stdout",
          "text": [
            "5\n",
            "20\n"
          ]
        }
      ]
    }
  ]
}