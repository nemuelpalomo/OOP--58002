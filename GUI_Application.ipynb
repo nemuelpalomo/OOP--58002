{
  "nbformat": 4,
  "nbformat_minor": 0,
  "metadata": {
    "colab": {
      "name": "GUI Application.ipynb",
      "provenance": [],
      "collapsed_sections": [],
      "authorship_tag": "ABX9TyNAnoPUjC6P4xA4YkIpQFoA",
      "include_colab_link": true
    },
    "kernelspec": {
      "name": "python3",
      "display_name": "Python 3"
    },
    "language_info": {
      "name": "python"
    }
  },
  "cells": [
    {
      "cell_type": "markdown",
      "metadata": {
        "id": "view-in-github",
        "colab_type": "text"
      },
      "source": [
        "<a href=\"https://colab.research.google.com/github/nemuelpalomo/OOP-58002/blob/main/GUI_Application.ipynb\" target=\"_parent\"><img src=\"https://colab.research.google.com/assets/colab-badge.svg\" alt=\"Open In Colab\"/></a>"
      ]
    },
    {
      "cell_type": "markdown",
      "source": [
        "Create a Python program that displays the grades of a student in prelim, midterm and final term"
      ],
      "metadata": {
        "id": "n8EqMrEiaGl7"
      }
    },
    {
      "cell_type": "code",
      "execution_count": 27,
      "metadata": {
        "colab": {
          "base_uri": "https://localhost:8080/"
        },
        "id": "sOd42sWwaBKY",
        "outputId": "68cb773f-94e7-4d8a-a6df-8c06aad68eb8"
      },
      "outputs": [
        {
          "output_type": "stream",
          "name": "stdout",
          "text": [
            "The semestral grade of the student is 88.5\n",
            "\n",
            "Male\n",
            "\n",
            "My birthday is 1999-05-07\n"
          ]
        }
      ],
      "source": [
        "#@title Student's Grade in OOP\n",
        "\n",
        "Student_Name = 'Nemuel Rico Palomo'#@param {type: \"string\"}\n",
        "prelim_grade = 90#@param {type:\"number\"}\n",
        "midterm_grade = 85#@param {type:\"number\"}\n",
        "final_grade = 90#@param {type:\"number\"}\n",
        "semestral = (prelim_grade*0.30 + midterm_grade*0.30 + final_grade *0.40)\n",
        "\n",
        "print(f\"The semestral grade of the student is {str(round((semestral),2))}\\n\")\n",
        "\n",
        "gender = 'Male'#@param:['Male', 'Female']\n",
        "birthdate = '1999-05-07'#@param {type: 'date'}\n",
        "\n",
        "\n",
        "print(gender)\n",
        "print(f\"\\nMy birthday is {birthdate}\")\n"
      ]
    }
  ]
}