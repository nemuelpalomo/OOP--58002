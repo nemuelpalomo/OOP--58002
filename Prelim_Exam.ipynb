{
  "nbformat": 4,
  "nbformat_minor": 0,
  "metadata": {
    "colab": {
      "name": "Prelim Exam.ipynb",
      "provenance": [],
      "collapsed_sections": [],
      "authorship_tag": "ABX9TyNUUE61mXE2AAHRRYIC/NJM",
      "include_colab_link": true
    },
    "kernelspec": {
      "name": "python3",
      "display_name": "Python 3"
    },
    "language_info": {
      "name": "python"
    }
  },
  "cells": [
    {
      "cell_type": "markdown",
      "metadata": {
        "id": "view-in-github",
        "colab_type": "text"
      },
      "source": [
        "<a href=\"https://colab.research.google.com/github/nemuelpalomo/OOP-58002/blob/main/Prelim_Exam.ipynb\" target=\"_parent\"><img src=\"https://colab.research.google.com/assets/colab-badge.svg\" alt=\"Open In Colab\"/></a>"
      ]
    },
    {
      "cell_type": "code",
      "execution_count": 13,
      "metadata": {
        "colab": {
          "base_uri": "https://localhost:8080/"
        },
        "id": "eG8hBRkNE12I",
        "outputId": "64e941fb-b599-4b24-85fa-eae37ef40599"
      },
      "outputs": [
        {
          "output_type": "stream",
          "name": "stdout",
          "text": [
            "The student's name: \n",
            "-Nemuel Rico Palomo\n",
            "\n",
            "The student's number: \n",
            "-201813656\n",
            "\n",
            "The student's age: \n",
            "-22\n",
            "\n",
            "The student's school: \n",
            "-Adamson University\n",
            "\n",
            "The student's Course: \n",
            "-B.S. Computer Engineering\n",
            "\n",
            "(201813656)Nemuel Rico Palomo 22 years old, currently studying in Adamson University as a B.S. Computer Engineering student.\n",
            "\n"
          ]
        }
      ],
      "source": [
        "class Student:\n",
        "  def __init__(self, Name, Student_No, Age, School, Course):\n",
        "    self.Name = Name\n",
        "    self.Student_No = Student_No\n",
        "    self.Age = Age\n",
        "    self.School = School\n",
        "    self.Course = Course\n",
        "\n",
        "  def Self(self):\n",
        "    print(f\"The student's name: \\n-{self.Name.title()}\\n\")\n",
        "    print(f\"The student's number: \\n-{self.Student_No}\\n\")\n",
        "    print(f\"The student's age: \\n-{self.Age}\\n\")\n",
        "    print(f\"The student's school: \\n-{self.School.title()}\\n\")\n",
        "    print(f\"The student's Course: \\n-{self.Course.title()}\\n\")\n",
        "    print(f\"({self.Student_No}){self.Name.title()} {self.Age} years old, currently studying in {self.School.title()} as a {self.Course.title()} student.\\n\")\n",
        "\n",
        "\n",
        "\n",
        "    \n",
        "\n",
        "\n",
        "\n",
        "Myself = Student('nemuel rico palomo', 201813656, '22', 'adamson university', 'b.s. computer engineering' )\n",
        "\n",
        "\n",
        "Myself.Self()\n",
        "  "
      ]
    }
  ]
}