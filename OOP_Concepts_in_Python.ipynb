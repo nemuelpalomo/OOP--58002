{
  "nbformat": 4,
  "nbformat_minor": 0,
  "metadata": {
    "colab": {
      "name": "OOP Concepts in Python.ipynb",
      "provenance": [],
      "collapsed_sections": [],
      "authorship_tag": "ABX9TyPkefkw3R+M5WB5w99E26U+",
      "include_colab_link": true
    },
    "kernelspec": {
      "name": "python3",
      "display_name": "Python 3"
    },
    "language_info": {
      "name": "python"
    }
  },
  "cells": [
    {
      "cell_type": "markdown",
      "metadata": {
        "id": "view-in-github",
        "colab_type": "text"
      },
      "source": [
        "<a href=\"https://colab.research.google.com/github/nemuelpalomo/OOP-58002/blob/main/OOP_Concepts_in_Python.ipynb\" target=\"_parent\"><img src=\"https://colab.research.google.com/assets/colab-badge.svg\" alt=\"Open In Colab\"/></a>"
      ]
    },
    {
      "cell_type": "markdown",
      "source": [
        "###Create a Class"
      ],
      "metadata": {
        "id": "OIYwDbHIHc7C"
      }
    },
    {
      "cell_type": "code",
      "source": [
        "class Car:\n",
        "  pass"
      ],
      "metadata": {
        "id": "IGnnNSFXKrpU"
      },
      "execution_count": null,
      "outputs": []
    },
    {
      "cell_type": "markdown",
      "source": [
        "###Create an Object"
      ],
      "metadata": {
        "id": "nJexAGseKwxW"
      }
    },
    {
      "cell_type": "code",
      "execution_count": 10,
      "metadata": {
        "colab": {
          "base_uri": "https://localhost:8080/"
        },
        "id": "V8D_B3xCHVuo",
        "outputId": "03e25af0-b36a-47cf-ea1f-6d3b2023e4fb"
      },
      "outputs": [
        {
          "output_type": "stream",
          "name": "stdout",
          "text": [
            "The Lamborghini is color black.\n"
          ]
        }
      ],
      "source": [
        "class Car:\n",
        "\n",
        "  def __init__(self, name, color):   # all classes have function called ___init__\n",
        "    self.name = name                 # attribute names or class named Car\n",
        "    self.color = color               \n",
        "\n",
        "  def display(self):                 # function to display the attributes of the car.\n",
        "    \n",
        "    print(f\"The {self.name.title()} is color {self.color}.\")\n",
        "\n",
        "\n",
        "car1 = Car(\"lamborghini\", \"black\")   # create a variable and pass it to the class.\n",
        "\n",
        "car1.display()                       # call the function inside the class Car to display the attributes of the variable.\n",
        "\n",
        "\n"
      ]
    },
    {
      "cell_type": "markdown",
      "source": [
        "###Object Methods\n"
      ],
      "metadata": {
        "id": "jGv-DBWPNso2"
      }
    },
    {
      "cell_type": "code",
      "source": [
        "class Person:\n",
        "  def __init__(self, name, age):\n",
        "    self.name = name\n",
        "    self.age = age\n",
        "\n",
        "  def information(self):\n",
        "    print(f\"{self.name.title()} is {self.age} years old.\")\n",
        "\n",
        "person1 = Person('nemuel', 22)\n",
        "\n",
        "person1.information()\n",
        "\n"
      ],
      "metadata": {
        "colab": {
          "base_uri": "https://localhost:8080/"
        },
        "id": "LQx8JWs4NvEx",
        "outputId": "08895601-b696-477b-fb87-89ee45140389"
      },
      "execution_count": 16,
      "outputs": [
        {
          "output_type": "stream",
          "name": "stdout",
          "text": [
            "Nemuel is 22 years old.\n"
          ]
        }
      ]
    },
    {
      "cell_type": "markdown",
      "source": [
        "###Modify an Object Property\n"
      ],
      "metadata": {
        "id": "17Ok-45KPn52"
      }
    },
    {
      "cell_type": "code",
      "source": [
        "car1.name = 'ferrari'\n",
        "car1.color = 'white'\n",
        "\n",
        "\n",
        "print(car1.name)\n",
        "print(car1.color)\n",
        "\n",
        "\n",
        "car1.display()"
      ],
      "metadata": {
        "colab": {
          "base_uri": "https://localhost:8080/"
        },
        "id": "hbEE7vzNPqV_",
        "outputId": "6ffa5653-8a15-4e83-f273-750bacdb22a4"
      },
      "execution_count": 22,
      "outputs": [
        {
          "output_type": "stream",
          "name": "stdout",
          "text": [
            "ferrari\n",
            "white\n",
            "The Ferrari is color white.\n"
          ]
        }
      ]
    },
    {
      "cell_type": "markdown",
      "source": [
        "###Delete an Object Property"
      ],
      "metadata": {
        "id": "ntyR-kmTWq_q"
      }
    },
    {
      "cell_type": "code",
      "source": [
        "del car1.color\n",
        "\n",
        "\n",
        "\n",
        "car1.display()"
      ],
      "metadata": {
        "colab": {
          "base_uri": "https://localhost:8080/",
          "height": 321
        },
        "id": "NV5Id0_NWshj",
        "outputId": "e4ae7f20-fab5-4361-e651-0f314b876723"
      },
      "execution_count": 23,
      "outputs": [
        {
          "output_type": "error",
          "ename": "AttributeError",
          "evalue": "ignored",
          "traceback": [
            "\u001b[0;31m---------------------------------------------------------------------------\u001b[0m",
            "\u001b[0;31mAttributeError\u001b[0m                            Traceback (most recent call last)",
            "\u001b[0;32m<ipython-input-23-9e4b57c5e2ba>\u001b[0m in \u001b[0;36m<module>\u001b[0;34m()\u001b[0m\n\u001b[1;32m      3\u001b[0m \u001b[0;34m\u001b[0m\u001b[0m\n\u001b[1;32m      4\u001b[0m \u001b[0;34m\u001b[0m\u001b[0m\n\u001b[0;32m----> 5\u001b[0;31m \u001b[0mcar1\u001b[0m\u001b[0;34m.\u001b[0m\u001b[0mdisplay\u001b[0m\u001b[0;34m(\u001b[0m\u001b[0;34m)\u001b[0m\u001b[0;34m\u001b[0m\u001b[0;34m\u001b[0m\u001b[0m\n\u001b[0m",
            "\u001b[0;32m<ipython-input-10-64566b7ac9dd>\u001b[0m in \u001b[0;36mdisplay\u001b[0;34m(self)\u001b[0m\n\u001b[1;32m      9\u001b[0m \u001b[0;34m\u001b[0m\u001b[0m\n\u001b[1;32m     10\u001b[0m   \u001b[0;32mdef\u001b[0m \u001b[0mdisplay\u001b[0m\u001b[0;34m(\u001b[0m\u001b[0mself\u001b[0m\u001b[0;34m)\u001b[0m\u001b[0;34m:\u001b[0m\u001b[0;34m\u001b[0m\u001b[0;34m\u001b[0m\u001b[0m\n\u001b[0;32m---> 11\u001b[0;31m     \u001b[0mprint\u001b[0m\u001b[0;34m(\u001b[0m\u001b[0;34mf\"The {self.name.title()} is color {self.color}.\"\u001b[0m\u001b[0;34m)\u001b[0m\u001b[0;34m\u001b[0m\u001b[0;34m\u001b[0m\u001b[0m\n\u001b[0m\u001b[1;32m     12\u001b[0m \u001b[0;34m\u001b[0m\u001b[0m\n\u001b[1;32m     13\u001b[0m \u001b[0;34m\u001b[0m\u001b[0m\n",
            "\u001b[0;31mAttributeError\u001b[0m: 'Car' object has no attribute 'color'"
          ]
        }
      ]
    },
    {
      "cell_type": "code",
      "source": [
        "print(car1.name)\n",
        "print(car1.color)"
      ],
      "metadata": {
        "colab": {
          "base_uri": "https://localhost:8080/",
          "height": 200
        },
        "id": "9CqNuY9OXGO-",
        "outputId": "95fc1f5e-46ef-4df8-ac3f-97802804b23e"
      },
      "execution_count": 24,
      "outputs": [
        {
          "output_type": "stream",
          "name": "stdout",
          "text": [
            "ferrari\n"
          ]
        },
        {
          "output_type": "error",
          "ename": "AttributeError",
          "evalue": "ignored",
          "traceback": [
            "\u001b[0;31m---------------------------------------------------------------------------\u001b[0m",
            "\u001b[0;31mAttributeError\u001b[0m                            Traceback (most recent call last)",
            "\u001b[0;32m<ipython-input-24-b3300dc57d2d>\u001b[0m in \u001b[0;36m<module>\u001b[0;34m()\u001b[0m\n\u001b[1;32m      1\u001b[0m \u001b[0mprint\u001b[0m\u001b[0;34m(\u001b[0m\u001b[0mcar1\u001b[0m\u001b[0;34m.\u001b[0m\u001b[0mname\u001b[0m\u001b[0;34m)\u001b[0m\u001b[0;34m\u001b[0m\u001b[0;34m\u001b[0m\u001b[0m\n\u001b[0;32m----> 2\u001b[0;31m \u001b[0mprint\u001b[0m\u001b[0;34m(\u001b[0m\u001b[0mcar1\u001b[0m\u001b[0;34m.\u001b[0m\u001b[0mcolor\u001b[0m\u001b[0;34m)\u001b[0m\u001b[0;34m\u001b[0m\u001b[0;34m\u001b[0m\u001b[0m\n\u001b[0m",
            "\u001b[0;31mAttributeError\u001b[0m: 'Car' object has no attribute 'color'"
          ]
        }
      ]
    },
    {
      "cell_type": "markdown",
      "source": [
        "###Application 1 - Write a Python program that computes for the Area and Perimeter of a Square and create a class name Square with side as its attribute"
      ],
      "metadata": {
        "id": "mTn4w1MTXYfX"
      }
    },
    {
      "cell_type": "code",
      "source": [
        "class Square:\n",
        "  def __init__(self, side):\n",
        "    self.side = side\n",
        "\n",
        "  def find_area(self):\n",
        "    return self.side * self.side\n",
        "\n",
        "  def find_perimeter(self):\n",
        "    return 4*self.side\n",
        "\n",
        "  def display(self):\n",
        "    print(f\"The area of the rectangle is {self.find_area()}.\\n\")\n",
        "    print(f\"The perimeter of the rectangle is {self.find_perimeter()}.\")\n",
        "\n",
        "\n",
        "\n",
        "\n",
        "square1 = Square(4)\n",
        "\n",
        "square1.display()\n"
      ],
      "metadata": {
        "colab": {
          "base_uri": "https://localhost:8080/"
        },
        "id": "YDKGNSBqXeet",
        "outputId": "f492b3c0-1c28-4bbb-b280-53f8ca09675e"
      },
      "execution_count": 39,
      "outputs": [
        {
          "output_type": "stream",
          "name": "stdout",
          "text": [
            "The area of the rectangle is 16.\n",
            "\n",
            "The perimeter of the rectangle is 16.\n"
          ]
        }
      ]
    }
  ]
}