{
  "nbformat": 4,
  "nbformat_minor": 0,
  "metadata": {
    "colab": {
      "name": "OOP Concepts 2.ipynb",
      "provenance": [],
      "collapsed_sections": [],
      "authorship_tag": "ABX9TyMA0bHvPzmQFmZ8Qdnf3C3K",
      "include_colab_link": true
    },
    "kernelspec": {
      "name": "python3",
      "display_name": "Python 3"
    },
    "language_info": {
      "name": "python"
    }
  },
  "cells": [
    {
      "cell_type": "markdown",
      "metadata": {
        "id": "view-in-github",
        "colab_type": "text"
      },
      "source": [
        "<a href=\"https://colab.research.google.com/github/nemuelpalomo/OOP-58002/blob/main/OOP_Concepts_2.ipynb\" target=\"_parent\"><img src=\"https://colab.research.google.com/assets/colab-badge.svg\" alt=\"Open In Colab\"/></a>"
      ]
    },
    {
      "cell_type": "markdown",
      "source": [
        "#Classes with Multiple Objects\n"
      ],
      "metadata": {
        "id": "hKBWqYzzUtrF"
      }
    },
    {
      "cell_type": "code",
      "execution_count": null,
      "metadata": {
        "colab": {
          "base_uri": "https://localhost:8080/"
        },
        "id": "iHHEH3qDTYKa",
        "outputId": "91b5330e-37ec-4cfa-ad77-bbc2b8d07349"
      },
      "outputs": [
        {
          "output_type": "stream",
          "name": "stdout",
          "text": [
            "Griffon Vulture flies above clouds.\n",
            "Common Crane flies above clouds.\n",
            "Emu is the national bird of the Philippines.\n"
          ]
        }
      ],
      "source": [
        "class Birds:\n",
        "  \n",
        "  def __init__(self, bird_name):\n",
        "    self.bird_name = bird_name\n",
        "\n",
        "  def flying_birds(self):\n",
        "    print(f\"{self.bird_name.title()} flies above clouds.\")\n",
        "\n",
        "  def non_flying_birds(self):\n",
        "    print(f\"{self.bird_name.title()} is the national bird of the Philippines.\")\n",
        "\n",
        "vulture = Birds(\"griffon vulture\")\n",
        "crane = Birds(\"common crane\")\n",
        "emu = Birds(\"emu\")\n",
        "\n",
        "vulture.flying_birds()\n",
        "crane.flying_birds()\n",
        "emu.non_flying_birds()\n"
      ]
    },
    {
      "cell_type": "markdown",
      "source": [
        "#Encapsulation (mangling with double underscore .__)\n"
      ],
      "metadata": {
        "id": "rgrhV0ynXJcd"
      }
    },
    {
      "cell_type": "code",
      "source": [
        "class foo:\n",
        "\n",
        "  def __init__(self, a, b):\n",
        "    self.__a = a\n",
        "    self.__b = b\n",
        "\n",
        "  def add(self):\n",
        "    return self.__a + self.__b\n",
        "\n",
        "  def sub(self):\n",
        "    return self.__a - self.__b\n",
        "\n",
        "foo_object = foo(3, 4)\n",
        "\n",
        "print(foo_object.add()) # Adding a and b\n",
        "print(foo_object.sub()) # Subtracting a and b\n",
        "\n",
        "foo_object.__b = 5\n",
        "foo_object.__a = 7\n",
        "\n",
        "print(foo_object.add())\n",
        "print(foo_object.sub())\n",
        "\n"
      ],
      "metadata": {
        "colab": {
          "base_uri": "https://localhost:8080/"
        },
        "id": "3gZcuhorXLEH",
        "outputId": "8ad350e5-8460-4180-f4f6-6df7b9313359"
      },
      "execution_count": null,
      "outputs": [
        {
          "output_type": "stream",
          "name": "stdout",
          "text": [
            "7\n",
            "-1\n",
            "7\n",
            "-1\n"
          ]
        }
      ]
    },
    {
      "cell_type": "markdown",
      "source": [
        "#Inheritance"
      ],
      "metadata": {
        "id": "BoqMyUxfc5Ov"
      }
    },
    {
      "cell_type": "code",
      "source": [
        "class Person:\n",
        "  def __init__(self, first_name, last_name):\n",
        "    self.first_name = first_name\n",
        "    self.last_name = last_name\n",
        "\n",
        "  def print_name(self):\n",
        "    print(f\"{self.first_name.title()} {self.last_name.title()}\")\n",
        "\n",
        "person = Person('nemuel', 'palomo')\n",
        "\n",
        "person.print_name()\n",
        "\n",
        "class Student(Person):\n",
        "  pass\n",
        "\n",
        "person = Student('nemuel', 'rico')\n",
        "\n",
        "person.print_name()\n"
      ],
      "metadata": {
        "colab": {
          "base_uri": "https://localhost:8080/"
        },
        "id": "0s352XE6dYss",
        "outputId": "dd59cddc-f992-4b98-a1f3-d29fabc86a77"
      },
      "execution_count": null,
      "outputs": [
        {
          "output_type": "stream",
          "name": "stdout",
          "text": [
            "Nemuel Palomo\n",
            "Nemuel Rico\n"
          ]
        }
      ]
    },
    {
      "cell_type": "markdown",
      "source": [
        "#Polymorphism"
      ],
      "metadata": {
        "id": "17PNJ4NJggN8"
      }
    },
    {
      "cell_type": "code",
      "source": [
        "class RegularPolygon:\n",
        "  def __init__(self, side):\n",
        "    self.side = side\n",
        "\n",
        "class Square(RegularPolygon):\n",
        "  def area(self):\n",
        "    return self.side * self.side\n",
        "\n",
        "class EquilateralTriangle(RegularPolygon):\n",
        "  def area(self):\n",
        "    return self.side * self.side * 0.433\n",
        "\n",
        "x = Square(4)\n",
        "y = EquilateralTriangle(3)\n",
        "\n",
        "print(x.area())\n",
        "print(y.area())"
      ],
      "metadata": {
        "colab": {
          "base_uri": "https://localhost:8080/"
        },
        "id": "14v0SKrnghUp",
        "outputId": "bf0444e8-05c4-41bf-8b6e-10412e7b3332"
      },
      "execution_count": null,
      "outputs": [
        {
          "output_type": "stream",
          "name": "stdout",
          "text": [
            "16\n",
            "3.897\n"
          ]
        }
      ]
    },
    {
      "cell_type": "markdown",
      "source": [
        "#Application 1"
      ],
      "metadata": {
        "id": "jsDu_bmIjUFM"
      }
    },
    {
      "cell_type": "code",
      "source": [
        "class Person:\n",
        "  # std1, std2, std3 attributes (encapsulated)\n",
        "  def __init__(self, std1 = 0, std2 = 0, std3 = 0): \n",
        "    self.__std1 = std1\n",
        "    self.__std2 = std2\n",
        "    self.__std3 = std3\n",
        "\n",
        "  # Grade() method to get the final term grade, student attribute added to store value in each specific __std.\n",
        "  def Grade(self, student, pre, mid, fin):\n",
        "    self.student = student                         \n",
        "    self.pre = pre\n",
        "    self.mid = mid\n",
        "    self.fin = fin\n",
        "    self.termgrade = 0\n",
        "\n",
        "    # getting the term grade by using this formula and storing it inside self.termgrade\n",
        "    self.termgrade = self.pre * 0.30 + self.mid * 0.30 + self.fin *0.40\n",
        "    # if-elif statement to output grade point equivalent\n",
        "    if 97 <= self.termgrade <= 100:                                          \n",
        "        self.termgrade = \"[1.00] or (A), Excellent\"\n",
        "    elif 93 <= self.termgrade <= 97:\n",
        "        self.termgrade = \"[1.25] or (A-), Superior\"\n",
        "    elif 89 <= self.termgrade <= 93:\n",
        "        self.termgrade = \"[1.50] or (B+), Superior\"\n",
        "    elif 85 <= self.termgrade <= 89:\n",
        "        self.termgrade = \"[1.75] or (B), Average\"\n",
        "    elif 82 <= self.termgrade <= 85:\n",
        "        self.termgrade = \"[2.00] or (B-), Average\"\n",
        "    elif 79 <= self.termgrade <= 82:\n",
        "        self.termgrade = \"[2.25] or (C+), Average\"\n",
        "    elif 76 <= self.termgrade <= 79:\n",
        "        self.termgrade = \"[2.50] or (C), Passed\"\n",
        "    elif 73 <= self.termgrade <= 76:\n",
        "        self.termgrade = \"[2.75] or (C-), Passed\"\n",
        "    elif 69.5 <= self.termgrade <= 73:\n",
        "        self.termgrade = \"[3.00] or (D), Passed\"\n",
        "    elif 69 <= self.termgrade <= 69.4: \n",
        "        self.termgrade = \"Failed, Dropped or No Grade.\"\n",
        "    else:\n",
        "        self.termgrade = \"Failed, Dropped or No Grade.\"\n",
        "\n",
        "    # another if-elif statement which utilizes the self.student attribute argument to -.\n",
        "    # - use the string that detects which self.__std to assign the data of self.termgrade into.\n",
        "    if self.student.title() == 'Student 1':\n",
        "      self.__std1 = self.termgrade\n",
        "    elif self.student.title() == 'Student 2':\n",
        "      self.__std2 = self.termgrade\n",
        "    elif self.student.title() == 'Student 3':\n",
        "      self.__std3 = self.termgrade\n",
        "    \n",
        "    \n",
        "\n",
        "class Students(Person):\n",
        "  '''Students subclass to isolate the DisplayGrades method to make my code a bit unique and to \n",
        "  showcase the inheritance OOP concept too.'''\n",
        "  \n",
        "  # Display the term grades of each Students in its final form by utilizing the f-string. \n",
        "  def DisplayGrades(self):\n",
        "    print(f\"Name: Student 1\")\n",
        "    print(f\"Term Grade: {self._Person__std1}\\n\")\n",
        "    print(f\"Name: Student 2\")\n",
        "    print(f\"Term Grade: {self._Person__std2}\\n\")\n",
        "    print(f\"Name: Student 3\")\n",
        "    print(f\"Term Grade: {self._Person__std3}\\n\")\n",
        "\n",
        "\n",
        "termgrades = Students()\n",
        "\n",
        "\n",
        "termgrades.Grade(\"student 1\", 97, 95, 99)\n",
        "termgrades.Grade(\"student 2\", 89, 88, 91)\n",
        "termgrades.Grade(\"student 3\", 65, 78, 64)\n",
        "termgrades.DisplayGrades()\n",
        "\n",
        "\n",
        "\n",
        "\n",
        "\n",
        "\n",
        "\n",
        "\n"
      ],
      "metadata": {
        "id": "MiFoqemojVHE",
        "colab": {
          "base_uri": "https://localhost:8080/"
        },
        "outputId": "314dd66e-aeaf-40d0-df24-dd7ac8aa6146"
      },
      "execution_count": 112,
      "outputs": [
        {
          "output_type": "stream",
          "name": "stdout",
          "text": [
            "Name: Student 1\n",
            "Term Grade: [1.00] or (A), Excellent\n",
            "\n",
            "Name: Student 2\n",
            "Term Grade: [1.50] or (B+), Superior\n",
            "\n",
            "Name: Student 3\n",
            "Term Grade: Failed, Dropped or No Grade.\n",
            "\n"
          ]
        }
      ]
    }
  ]
}